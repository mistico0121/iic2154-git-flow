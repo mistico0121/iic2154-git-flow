{
 "cells": [
  {
   "cell_type": "code",
   "execution_count": 3,
   "id": "3e575acc",
   "metadata": {},
   "outputs": [],
   "source": [
    "import json\n",
    "\n",
    "data = []\n",
    "with open('dataset_small.json') as f:\n",
    "    for line in f:\n",
    "        data.append(json.loads(line))\n",
    "        #print(line)"
   ]
  },
  {
   "cell_type": "code",
   "execution_count": 4,
   "id": "97844330",
   "metadata": {},
   "outputs": [
    {
     "name": "stdout",
     "output_type": "stream",
     "text": [
      "Tweet ID: 1376719988669603842, Retweets: 86\n",
      "Tweet ID: 1376718222783705089, Retweets: 60\n",
      "Tweet ID: 1376721289453334528, Retweets: 48\n",
      "Tweet ID: 1376725485250433027, Retweets: 40\n",
      "Tweet ID: 1376717639226122247, Retweets: 40\n",
      "Tweet ID: 1376718141925908484, Retweets: 35\n",
      "Tweet ID: 1376719901193351173, Retweets: 32\n",
      "Tweet ID: 1376717549698609153, Retweets: 23\n",
      "Tweet ID: 1376736147133530113, Retweets: 21\n",
      "Tweet ID: 1376720257176367106, Retweets: 21\n"
     ]
    }
   ],
   "source": [
    "def top10Retweet(data):\n",
    "    # {tweet: retweet}\n",
    "    tweetsRetweets = {}\n",
    "    \n",
    "    for tweet in data:\n",
    "        tweetsRetweets[tweet['id']] = tweet['retweetCount']\n",
    "    \n",
    "    sort_tweets = sorted(tweetsRetweets.items(), key=lambda x: x[1], reverse=True)\n",
    "        \n",
    "    for i in range(10):\n",
    "        #print(sort_tweets[i][0])\n",
    "        print(f\"Tweet ID: {sort_tweets[i][0]}, Retweets: {sort_tweets[i][1]}\")\n",
    "        \n",
    "top10Retweet(data)"
   ]
  },
  {
   "cell_type": "code",
   "execution_count": null,
   "id": "328969f6",
   "metadata": {},
   "outputs": [],
   "source": []
  }
 ],
 "metadata": {
  "kernelspec": {
   "display_name": "Python 3 (ipykernel)",
   "language": "python",
   "name": "python3"
  },
  "language_info": {
   "codemirror_mode": {
    "name": "ipython",
    "version": 3
   },
   "file_extension": ".py",
   "mimetype": "text/x-python",
   "name": "python",
   "nbconvert_exporter": "python",
   "pygments_lexer": "ipython3",
   "version": "3.10.4"
  }
 },
 "nbformat": 4,
 "nbformat_minor": 5
}
