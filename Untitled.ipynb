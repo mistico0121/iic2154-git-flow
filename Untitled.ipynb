{
 "cells": [
  {
   "cell_type": "code",
   "execution_count": 3,
   "id": "3e575acc",
   "metadata": {},
   "outputs": [],
   "source": [
    "import json\n",
    "\n",
    "data = []\n",
    "with open('dataset_small.json') as f:\n",
    "    for line in f:\n",
    "        data.append(json.loads(line))\n",
    "        #print(line)"
   ]
  },
  {
   "cell_type": "code",
   "execution_count": 9,
   "id": "97844330",
   "metadata": {},
   "outputs": [
    {
     "name": "stdout",
     "output_type": "stream",
     "text": [
      "Tweet ID: 1376719988669603842, Retweets: 86\n",
      "Tweet ID: 1376718222783705089, Retweets: 60\n",
      "Tweet ID: 1376721289453334528, Retweets: 48\n",
      "Tweet ID: 1376725485250433027, Retweets: 40\n",
      "Tweet ID: 1376717639226122247, Retweets: 40\n",
      "Tweet ID: 1376718141925908484, Retweets: 35\n",
      "Tweet ID: 1376719901193351173, Retweets: 32\n",
      "Tweet ID: 1376717549698609153, Retweets: 23\n",
      "Tweet ID: 1376736147133530113, Retweets: 21\n",
      "Tweet ID: 1376720257176367106, Retweets: 21\n"
     ]
    }
   ],
   "source": [
    "def top10Retweet(data):\n",
    "    # {tweet: retweet}\n",
    "    tweetsRetweets = {}\n",
    "    \n",
    "    for tweet in data:\n",
    "        tweetsRetweets[tweet['id']] = tweet['retweetCount']\n",
    "    \n",
    "    sort_tweets = sorted(tweetsRetweets.items(), key=lambda x: x[1], reverse=True)\n",
    "        \n",
    "    if (len(sort_tweets) < 10):\n",
    "        for i in range(len(sort_tweets)):\n",
    "            print(f\"Tweet ID: {sort_tweets[i][0]}, Retweets: {sort_tweets[i][1]}\")\n",
    "    else:\n",
    "        for i in range(10):\n",
    "            print(f\"Tweet ID: {sort_tweets[i][0]}, Retweets: {sort_tweets[i][1]}\")\n",
    "        \n",
    "top10Retweet(data)"
   ]
  },
  {
   "cell_type": "code",
   "execution_count": 10,
   "id": "328969f6",
   "metadata": {},
   "outputs": [
    {
     "name": "stdout",
     "output_type": "stream",
     "text": [
      "Day: 2021-03-30 : Tweets: 299\n"
     ]
    }
   ],
   "source": [
    "def top10DaysTweets(data):\n",
    "    # {day: tweets}\n",
    "    date_tweet = {}\n",
    "    \n",
    "    for tweet in data:\n",
    "        day = tweet['date'].partition(\"T\")[0]\n",
    "        \n",
    "        if not (day in date_tweet):\n",
    "            date_tweet[day] = 0\n",
    "        else:\n",
    "            date_tweet[day] += 1\n",
    "    \n",
    "    sort_tweets = sorted(date_tweet.items(), key=lambda x: x[1], reverse=True)\n",
    "    \n",
    "    if (len(sort_tweets) < 10):\n",
    "        for i in range(len(sort_tweets)):\n",
    "            print(f\"Day: {sort_tweets[i][0]} : Tweets: {sort_tweets[i][1]}\")\n",
    "    else:\n",
    "        for i in range(10):\n",
    "            print(f\"Day: {sort_tweets[i][0]} : Tweets: {sort_tweets[i][1]}\")\n",
    "\n",
    "        \n",
    "top10DaysTweets(data)"
   ]
  },
  {
   "cell_type": "code",
   "execution_count": 11,
   "id": "944d611d",
   "metadata": {},
   "outputs": [
    {
     "name": "stdout",
     "output_type": "stream",
     "text": [
      "User: HarmanS22953138 : Tweets: 51\n",
      "User: ish_kayy : Tweets: 10\n",
      "User: Parmind74776100 : Tweets: 10\n",
      "User: jot__b : Tweets: 8\n",
      "User: SukhdevSingh_ : Tweets: 6\n",
      "User: Iamjazzie96 : Tweets: 6\n",
      "User: Jass_k_G : Tweets: 5\n",
      "User: Be1Benipal : Tweets: 5\n",
      "User: NavJammu : Tweets: 5\n",
      "User: TutSimran : Tweets: 5\n"
     ]
    }
   ],
   "source": [
    "def top10UserTweets(data):\n",
    "    # {user: tweets}\n",
    "    user_tweets = {}\n",
    "    \n",
    "    for tweet in data:\n",
    "        user = tweet['user']['username']\n",
    "        \n",
    "        if not (user in user_tweets):\n",
    "            user_tweets[user] = 0\n",
    "        else:\n",
    "            user_tweets[user] += 1\n",
    "    \n",
    "    sort_tweets = sorted(user_tweets.items(), key=lambda x: x[1], reverse=True)\n",
    "    \n",
    "    if (len(sort_tweets) < 10):\n",
    "        for i in range(len(sort_tweets)):\n",
    "            print(f\"User: {sort_tweets[i][0]} : Tweets: {sort_tweets[i][1]}\")\n",
    "    else:\n",
    "        for i in range(10):\n",
    "            print(f\"User: {sort_tweets[i][0]} : Tweets: {sort_tweets[i][1]}\")\n",
    "        \n",
    "        \n",
    "top10UserTweets(data)"
   ]
  },
  {
   "cell_type": "code",
   "execution_count": null,
   "id": "7e9de5f2",
   "metadata": {},
   "outputs": [],
   "source": [
    "def Top10hashtag(data):\n",
    "    # {tweet: retweet}\n",
    "    hashTweet = {}\n",
    "    \n",
    "    for tweet in data:\n",
    "        if \"#\" in tweet['content']:\n",
    "            arr = tweet['content'].split(\"#\")\n",
    "            for slicee in arr[1::]:\n",
    "                hash1 = slicee.partition(\".\")[0]\n",
    "                hash0 = hash1.partition(\"\\n\")[0]\n",
    "                hashtag = hash0.partition(\" \")[0]\n",
    "                if not (hashtag in hashTweet):\n",
    "                    hashTweet[hashtag] = 0\n",
    "                else:\n",
    "                    hashTweet[hashtag] += 1\n",
    "                    \n",
    "    sort_tweets = sorted(hashTweet.items(), key=lambda x: x[1], reverse=True)\n",
    "    \n",
    "    if (len(sort_tweets) < 10):\n",
    "        for i in range(len(sort_tweets)):\n",
    "            print(f\"Hashtag: {sort_tweets[i][0]}, Count: {sort_tweets[i][1]}\")\n",
    "    else:\n",
    "        for i in range(10):\n",
    "            print(f\"Hashtag: {sort_tweets[i][0]}, Count: {sort_tweets[i][1]}\")\n",
    "\n",
    "        \n",
    "Top10hashtag(data)"
   ]
  }
 ],
 "metadata": {
  "kernelspec": {
   "display_name": "Python 3 (ipykernel)",
   "language": "python",
   "name": "python3"
  },
  "language_info": {
   "codemirror_mode": {
    "name": "ipython",
    "version": 3
   },
   "file_extension": ".py",
   "mimetype": "text/x-python",
   "name": "python",
   "nbconvert_exporter": "python",
   "pygments_lexer": "ipython3",
   "version": "3.10.4"
  }
 },
 "nbformat": 4,
 "nbformat_minor": 5
}
